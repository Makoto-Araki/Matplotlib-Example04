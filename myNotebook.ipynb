{
 "cells": [
  {
   "cell_type": "code",
   "execution_count": 10,
   "metadata": {},
   "outputs": [
    {
     "data": {
      "image/png": "[encoded data removed]",
      "text/plain": [
       "<Figure size 432x288 with 1 Axes>"
      ]
     },
     "metadata": {
      "needs_background": "light"
     },
     "output_type": "display_data"
    }
   ],
   "source": [
    "# ライブラリのインポート\n",
    "import numpy as np\n",
    "import matplotlib.pyplot as plt\n",
    "import japanize_matplotlib\n",
    "import pandas as pd\n",
    "\n",
    "# X軸とY軸の値\n",
    "X = np.array([28, 32, 35, 33, 27, 24, 30, 38, 33, 21, 24, 22, 29, 35, 33])\n",
    "Y = np.array([520, 570, 600, 630, 490, 520, 500, 730, 610, 440, 420, 450, 560, 620, 500])\n",
    "\n",
    "# グラフ装飾\n",
    "plt.xlim(15, 45)\n",
    "plt.ylim(300, 800)\n",
    "plt.title('温度と売上の関連性', fontsize=20)\n",
    "plt.xlabel('温度', fontsize=13)\n",
    "plt.ylabel('売上', fontsize=13)\n",
    "plt.grid(True)\n",
    "plt.tick_params(labelsize=13)\n",
    "\n",
    "# グラフ描画\n",
    "plt.scatter(X, Y, s=75, c='g', marker='x', alpha=1)\n",
    "plt.show()"
   ]
  },
  {
   "cell_type": "code",
   "execution_count": 11,
   "metadata": {},
   "outputs": [
    {
     "data": {
      "image/png": "[encoded data removed]",
      "text/plain": [
       "<Figure size 432x288 with 1 Axes>"
      ]
     },
     "metadata": {
      "needs_background": "light"
     },
     "output_type": "display_data"
    }
   ],
   "source": [
    "# X軸とY軸の値\n",
    "X1 = np.array([28, 32, 35, 33, 27, 24, 30, 38, 33, 21, 24, 22, 29, 35, 33])\n",
    "Y1 = np.array([520, 570, 600, 630, 490, 520, 500, 730, 610, 440, 420, 450, 560, 620, 500])\n",
    "X2 = np.array([29, 35, 33, 31, 26, 22, 32, 39, 33, 23, 20, 20, 27, 32, 34])\n",
    "Y2 = np.array([540, 590, 630, 640, 490, 550, 540, 740, 650, 460, 450, 480, 580, 670, 550])\n",
    "\n",
    "# グラフ装飾\n",
    "plt.xlim(15, 45)\n",
    "plt.ylim(300, 800)\n",
    "plt.title('温度と売上の関連性', fontsize=20)\n",
    "plt.xlabel('温度', fontsize=13)\n",
    "plt.ylabel('売上', fontsize=13)\n",
    "plt.grid(True)\n",
    "plt.tick_params(labelsize=13)\n",
    "\n",
    "# グラフ描画\n",
    "plt.scatter(X1, Y1, s=75, c='g', marker='x', alpha=1, label='2017')\n",
    "plt.scatter(X2, Y2, s=75, c='r', marker='x', alpha=1, label='2018')\n",
    "plt.legend(loc=\"upper left\", fontsize=14)\n",
    "plt.show()"
   ]
  },
  {
   "cell_type": "code",
   "execution_count": 12,
   "metadata": {},
   "outputs": [],
   "source": [
    "# CSVファイルから読込\n",
    "sales1 = pd.read_csv('C:\\\\Users\\Owner\\Matplotlib-Exercises4\\\\FILE1.csv')\n",
    "sales2 = pd.read_csv('C:\\\\Users\\Owner\\Matplotlib-Exercises4\\\\FILE2.csv')"
   ]
  },
  {
   "cell_type": "code",
   "execution_count": 13,
   "metadata": {},
   "outputs": [
    {
     "data": {
      "text/html": [
       "<div>\n",
       "<style scoped>\n",
       "    .dataframe tbody tr th:only-of-type {\n",
       "        vertical-align: middle;\n",
       "    }\n",
       "\n",
       "    .dataframe tbody tr th {\n",
       "        vertical-align: top;\n",
       "    }\n",
       "\n",
       "    .dataframe thead th {\n",
       "        text-align: right;\n",
       "    }\n",
       "</style>\n",
       "<table border=\"1\" class=\"dataframe\">\n",
       "  <thead>\n",
       "    <tr style=\"text-align: right;\">\n",
       "      <th></th>\n",
       "      <th>温度</th>\n",
       "      <th>売上</th>\n",
       "    </tr>\n",
       "  </thead>\n",
       "  <tbody>\n",
       "    <tr>\n",
       "      <th>0</th>\n",
       "      <td>28</td>\n",
       "      <td>520</td>\n",
       "    </tr>\n",
       "    <tr>\n",
       "      <th>1</th>\n",
       "      <td>32</td>\n",
       "      <td>570</td>\n",
       "    </tr>\n",
       "    <tr>\n",
       "      <th>2</th>\n",
       "      <td>35</td>\n",
       "      <td>600</td>\n",
       "    </tr>\n",
       "    <tr>\n",
       "      <th>3</th>\n",
       "      <td>33</td>\n",
       "      <td>630</td>\n",
       "    </tr>\n",
       "    <tr>\n",
       "      <th>4</th>\n",
       "      <td>27</td>\n",
       "      <td>490</td>\n",
       "    </tr>\n",
       "    <tr>\n",
       "      <th>5</th>\n",
       "      <td>24</td>\n",
       "      <td>520</td>\n",
       "    </tr>\n",
       "    <tr>\n",
       "      <th>6</th>\n",
       "      <td>30</td>\n",
       "      <td>500</td>\n",
       "    </tr>\n",
       "    <tr>\n",
       "      <th>7</th>\n",
       "      <td>38</td>\n",
       "      <td>730</td>\n",
       "    </tr>\n",
       "    <tr>\n",
       "      <th>8</th>\n",
       "      <td>33</td>\n",
       "      <td>610</td>\n",
       "    </tr>\n",
       "    <tr>\n",
       "      <th>9</th>\n",
       "      <td>21</td>\n",
       "      <td>440</td>\n",
       "    </tr>\n",
       "    <tr>\n",
       "      <th>10</th>\n",
       "      <td>24</td>\n",
       "      <td>420</td>\n",
       "    </tr>\n",
       "    <tr>\n",
       "      <th>11</th>\n",
       "      <td>22</td>\n",
       "      <td>450</td>\n",
       "    </tr>\n",
       "    <tr>\n",
       "      <th>12</th>\n",
       "      <td>29</td>\n",
       "      <td>560</td>\n",
       "    </tr>\n",
       "    <tr>\n",
       "      <th>13</th>\n",
       "      <td>35</td>\n",
       "      <td>620</td>\n",
       "    </tr>\n",
       "    <tr>\n",
       "      <th>14</th>\n",
       "      <td>33</td>\n",
       "      <td>500</td>\n",
       "    </tr>\n",
       "  </tbody>\n",
       "</table>\n",
       "</div>"
      ],
      "text/plain": [
       "    温度   売上\n",
       "0   28  520\n",
       "1   32  570\n",
       "2   35  600\n",
       "3   33  630\n",
       "4   27  490\n",
       "5   24  520\n",
       "6   30  500\n",
       "7   38  730\n",
       "8   33  610\n",
       "9   21  440\n",
       "10  24  420\n",
       "11  22  450\n",
       "12  29  560\n",
       "13  35  620\n",
       "14  33  500"
      ]
     },
     "execution_count": 13,
     "metadata": {},
     "output_type": "execute_result"
    }
   ],
   "source": [
    "# データフレームの内容\n",
    "sales1"
   ]
  },
  {
   "cell_type": "code",
   "execution_count": 14,
   "metadata": {},
   "outputs": [
    {
     "data": {
      "text/html": [
       "<div>\n",
       "<style scoped>\n",
       "    .dataframe tbody tr th:only-of-type {\n",
       "        vertical-align: middle;\n",
       "    }\n",
       "\n",
       "    .dataframe tbody tr th {\n",
       "        vertical-align: top;\n",
       "    }\n",
       "\n",
       "    .dataframe thead th {\n",
       "        text-align: right;\n",
       "    }\n",
       "</style>\n",
       "<table border=\"1\" class=\"dataframe\">\n",
       "  <thead>\n",
       "    <tr style=\"text-align: right;\">\n",
       "      <th></th>\n",
       "      <th>温度</th>\n",
       "      <th>売上</th>\n",
       "    </tr>\n",
       "  </thead>\n",
       "  <tbody>\n",
       "    <tr>\n",
       "      <th>0</th>\n",
       "      <td>29</td>\n",
       "      <td>540</td>\n",
       "    </tr>\n",
       "    <tr>\n",
       "      <th>1</th>\n",
       "      <td>35</td>\n",
       "      <td>590</td>\n",
       "    </tr>\n",
       "    <tr>\n",
       "      <th>2</th>\n",
       "      <td>33</td>\n",
       "      <td>630</td>\n",
       "    </tr>\n",
       "    <tr>\n",
       "      <th>3</th>\n",
       "      <td>31</td>\n",
       "      <td>640</td>\n",
       "    </tr>\n",
       "    <tr>\n",
       "      <th>4</th>\n",
       "      <td>26</td>\n",
       "      <td>490</td>\n",
       "    </tr>\n",
       "    <tr>\n",
       "      <th>5</th>\n",
       "      <td>22</td>\n",
       "      <td>550</td>\n",
       "    </tr>\n",
       "    <tr>\n",
       "      <th>6</th>\n",
       "      <td>32</td>\n",
       "      <td>540</td>\n",
       "    </tr>\n",
       "    <tr>\n",
       "      <th>7</th>\n",
       "      <td>39</td>\n",
       "      <td>740</td>\n",
       "    </tr>\n",
       "    <tr>\n",
       "      <th>8</th>\n",
       "      <td>33</td>\n",
       "      <td>650</td>\n",
       "    </tr>\n",
       "    <tr>\n",
       "      <th>9</th>\n",
       "      <td>23</td>\n",
       "      <td>460</td>\n",
       "    </tr>\n",
       "    <tr>\n",
       "      <th>10</th>\n",
       "      <td>20</td>\n",
       "      <td>450</td>\n",
       "    </tr>\n",
       "    <tr>\n",
       "      <th>11</th>\n",
       "      <td>20</td>\n",
       "      <td>480</td>\n",
       "    </tr>\n",
       "    <tr>\n",
       "      <th>12</th>\n",
       "      <td>27</td>\n",
       "      <td>580</td>\n",
       "    </tr>\n",
       "    <tr>\n",
       "      <th>13</th>\n",
       "      <td>32</td>\n",
       "      <td>670</td>\n",
       "    </tr>\n",
       "    <tr>\n",
       "      <th>14</th>\n",
       "      <td>34</td>\n",
       "      <td>550</td>\n",
       "    </tr>\n",
       "  </tbody>\n",
       "</table>\n",
       "</div>"
      ],
      "text/plain": [
       "    温度   売上\n",
       "0   29  540\n",
       "1   35  590\n",
       "2   33  630\n",
       "3   31  640\n",
       "4   26  490\n",
       "5   22  550\n",
       "6   32  540\n",
       "7   39  740\n",
       "8   33  650\n",
       "9   23  460\n",
       "10  20  450\n",
       "11  20  480\n",
       "12  27  580\n",
       "13  32  670\n",
       "14  34  550"
      ]
     },
     "execution_count": 14,
     "metadata": {},
     "output_type": "execute_result"
    }
   ],
   "source": [
    "# データフレームの内容\n",
    "sales2"
   ]
  },
  {
   "cell_type": "code",
   "execution_count": 15,
   "metadata": {},
   "outputs": [
    {
     "data": {
      "image/png": "[encoded data removed]",
      "text/plain": [
       "<Figure size 432x288 with 1 Axes>"
      ]
     },
     "metadata": {
      "needs_background": "light"
     },
     "output_type": "display_data"
    }
   ],
   "source": [
    "# X軸とY軸の値\n",
    "X1 = sales1['温度']\n",
    "Y1 = sales1['売上']\n",
    "X2 = sales2['温度']\n",
    "Y2 = sales2['売上']\n",
    "\n",
    "# グラフ装飾\n",
    "plt.xlim(15, 45)\n",
    "plt.ylim(300, 800)\n",
    "plt.title('温度と売上の関連性', fontsize=20)\n",
    "plt.xlabel('温度', fontsize=13)\n",
    "plt.ylabel('売上', fontsize=13)\n",
    "plt.grid(True)\n",
    "plt.tick_params(labelsize=13)\n",
    "\n",
    "# グラフ描画\n",
    "plt.scatter(X1, Y1, s=75, c='g', marker='x', alpha=1, label='2017')\n",
    "plt.scatter(X2, Y2, s=75, c='r', marker='x', alpha=1, label='2018')\n",
    "plt.legend(loc=\"upper left\", fontsize=14)\n",
    "plt.show()"
   ]
  },
  {
   "cell_type": "code",
   "execution_count": null,
   "metadata": {},
   "outputs": [],
   "source": []
  }
 ],
 "metadata": {
  "kernelspec": {
   "display_name": "Python 3",
   "language": "python",
   "name": "python3"
  },
  "language_info": {
   "codemirror_mode": {
    "name": "ipython",
    "version": 3
   },
   "file_extension": ".py",
   "mimetype": "text/x-python",
   "name": "python",
   "nbconvert_exporter": "python",
   "pygments_lexer": "ipython3",
   "version": "3.8.3"
  }
 },
 "nbformat": 4,
 "nbformat_minor": 4
}
